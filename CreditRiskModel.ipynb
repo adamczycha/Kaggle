{
 "cells": [
  {
   "cell_type": "code",
   "execution_count": 2,
   "id": "fe12abc4",
   "metadata": {
    "execution": {
     "iopub.execute_input": "2024-05-02T09:32:39.992761Z",
     "iopub.status.busy": "2024-05-02T09:32:39.991984Z",
     "iopub.status.idle": "2024-05-02T09:32:44.347358Z",
     "shell.execute_reply": "2024-05-02T09:32:44.346105Z"
    },
    "papermill": {
     "duration": 4.366131,
     "end_time": "2024-05-02T09:32:44.350201",
     "exception": false,
     "start_time": "2024-05-02T09:32:39.984070",
     "status": "completed"
    },
    "tags": []
   },
   "outputs": [],
   "source": [
    "import pandas as pd\n",
    "import polars as pl\n",
    "pl.Config.set_tbl_cols(None)\n",
    "pl.Config.set_tbl_rows(None)\n",
    "pl.enable_string_cache()\n",
    "import numpy as np\n",
    "import lightgbm as lgb\n",
    "from sklearn.model_selection import train_test_split\n",
    "from sklearn.metrics import roc_auc_score \n",
    "from sklearn.base import BaseEstimator, RegressorMixin\n",
    "from collections import Counter\n",
    "import gc\n",
    "\n",
    "\n",
    "dataPath = \"C:/Users/Marcel/Documents/Python/kaggle/CreditRiskModel/data/csv_files/\""
   ]
  },
  {
   "cell_type": "code",
   "execution_count": 100,
   "id": "70184e77",
   "metadata": {
    "execution": {
     "iopub.execute_input": "2024-05-02T09:32:44.365936Z",
     "iopub.status.busy": "2024-05-02T09:32:44.365522Z",
     "iopub.status.idle": "2024-05-02T09:32:44.374872Z",
     "shell.execute_reply": "2024-05-02T09:32:44.374020Z"
    },
    "papermill": {
     "duration": 0.020039,
     "end_time": "2024-05-02T09:32:44.377300",
     "exception": false,
     "start_time": "2024-05-02T09:32:44.357261",
     "status": "completed"
    },
    "tags": []
   },
   "outputs": [],
   "source": [
    "def convert_strings(df: pd.DataFrame) -> pd.DataFrame:\n",
    "    for col in df.columns:  \n",
    "        if df[col].dtype.name in ['object', 'string']:\n",
    "            df[col] = df[col].astype(\"string\").astype('category')\n",
    "            current_categories = df[col].cat.categories\n",
    "            new_categories = current_categories.to_list() + [\"Unknown\"]\n",
    "            new_dtype = pd.CategoricalDtype(categories=new_categories, ordered=True)\n",
    "            df[col] = df[col].astype(new_dtype)\n",
    "    return df\n",
    "\n",
    "\n",
    "\n",
    "class Preprocess:\n",
    "\n",
    "    def _numeric_readed_as_string(df: pl.Series, col:str) -> pl.Series:\n",
    "        _missed_boolen = pl.Series([\"false\", 'true']).is_in(df.get_column(col).str.to_lowercase())\n",
    "        if  _missed_boolen[0] == True or _missed_boolen[1] == True:\n",
    "            df = df.with_columns(pl.col(col).str.to_lowercase().str.replace('false',False).str.replace('true', True).cast(pl.Float64).alias(col))\n",
    "            df = df.with_columns(pl.col(col).str.replace('\"','').alias(col))\n",
    "        return df\n",
    "    \n",
    "    def set_table_dtypes(df: pl.DataFrame) -> pl.DataFrame:\n",
    "        numeric_col =[]\n",
    "        timedue_col = []\n",
    "        string_col = []\n",
    "        date_col = []\n",
    "        for col in df.columns:\n",
    "            if col[-1] in (\"P\", \"A\"):\n",
    "                df = df.with_columns(pl.col(col).cast(pl.Float64).alias(col))\n",
    "                numeric_col.append(col)\n",
    "            elif col[-1] in (\"T\"):\n",
    "                try:\n",
    "                    df = df.with_columns(pl.col(col).cast(pl.Int64).alias(col))\n",
    "                    timedue_col.append(col)\n",
    "                except:\n",
    "                     df = df.with_columns(pl.col(col).cast(pl.Utf8).alias(col))\n",
    "                     string_col.append(col)\n",
    "            elif col[-1] in (\"L\"):\n",
    "                try:\n",
    "                    if df.get_column(col).dtype in [pl.Utf8]:\n",
    "                       # for instance \"False\", or '\"2.0\"'\n",
    "                       df = Preprocess._numeric_readed_as_string(df, col)\n",
    "                    df = df.with_columns(pl.col(col).cast(pl.Float64).alias(col))\n",
    "                    numeric_col.append(col)\n",
    "                except:\n",
    "                    df = df.with_columns(pl.col(col).cast(pl.Utf8).alias(col))\n",
    "                    string_col.append(col)\n",
    "            elif col[-1] in (\"D\") or col in [\"date_decision\"]:\n",
    "                df = df.with_columns(pl.col(col).cast(pl.Date).alias(col))\n",
    "                date_col.append(col)\n",
    "            elif col[-1] in (\"M\"):\n",
    "                df = df.with_columns(pl.col(col).cast(pl.Utf8).alias(col))\n",
    "                string_col.append(col)\n",
    "            elif col in [\"case_id\", \"WEEK_NUM\", \"num_group1\", \"num_group2\"]:\n",
    "                df = df.with_columns(pl.col(col).cast(pl.Int64).alias(col))\n",
    "        return df, [numeric_col,timedue_col,string_col,date_col]\n",
    "    \n",
    "    def offset_dates_by_decision_date(df: pl.DataFrame) -> pl.DataFrame:\n",
    "        decision_data = df.get_column(\"date_decision\")\n",
    "        for col in df:\n",
    "            if col.name[-1] in [\"D\"]:\n",
    "                df = df.with_columns((col - pl.col(\"date_decision\")).dt.days().cast(pl.Int64).alias(col.name))\n",
    "        df = df.drop(\"date_decision\",\"MONTH\")\n",
    "        return df\n",
    "    \n",
    "    def remove_columns_over_null_limit(df: pl.DataFrame) -> pl.DataFrame:\n",
    "        drop_list = []\n",
    "        for col in df:\n",
    "            if (col.name not in [\"case_id\", \"WEEK_NUM\", \"num_group1\", \"num_group2\"]) and (col.null_count()/len(col) > 0.7):\n",
    "                drop_list.append(col.name)\n",
    "        df = df.drop(drop_list)\n",
    "        return df, drop_list\n",
    "    \n",
    "    def remove_columns_over_max_cardinality(df: pl.DataFrame) -> pl.DataFrame:\n",
    "        drop_list = []\n",
    "        for col in df:\n",
    "            if (col.name not in [\"case_id\", \"WEEK_NUM\", \"num_group1\", \"num_group2\"]) and (col.dtype == pl.Utf8) and (col.n_unique() > 200):\n",
    "                drop_list.append(col.name)\n",
    "        df = df.drop(drop_list)\n",
    "        return df, drop_list\n",
    "\n"
   ]
  },
  {
   "cell_type": "code",
   "execution_count": 72,
   "id": "d3bd392c",
   "metadata": {},
   "outputs": [],
   "source": [
    "df = pl.DataFrame(\n",
    "    {\n",
    "        \"binary\": ['\"2.0\"','1.0', None,\"3.0\",'4.0']\n",
    "    }\n",
    ")"
   ]
  },
  {
   "cell_type": "code",
   "execution_count": null,
   "id": "6a6dfb73",
   "metadata": {},
   "outputs": [],
   "source": [
    "print(df)\n",
    "df = df.with_columns(pl.col(\"binary\").cast(pl.Float64))\n",
    "print(df)"
   ]
  },
  {
   "cell_type": "code",
   "execution_count": null,
   "id": "89050c78",
   "metadata": {},
   "outputs": [],
   "source": [
    "s = pl.Series([\"False\", None,\"False\",\"True\", None])\n",
    "_missed_boolen = pl.Series([\"false\", 'true']).is_in(s.str.to_lowercase())\n",
    "if  _missed_boolen[0] == True or _missed_boolen[1] == True:\n",
    "    s = s.str.to_lowercase().str.replace('false',False).str.replace('true', True).cast(pl.Float64)\n",
    "\n",
    "    print(s)\n"
   ]
  },
  {
   "cell_type": "code",
   "execution_count": 78,
   "id": "15ebd483",
   "metadata": {},
   "outputs": [],
   "source": [
    "class Agregator:\n",
    "\n",
    "    def aggreget(df: pl.DataFrame, column_types) -> pl.DataFrame:\n",
    "        numeric_col, timedue_col, string_col, date_col = column_types\n",
    "        \n",
    "        df = df.group_by('case_id').agg(pl.col(numeric_col).sum(), pl.col(timedue_col).mean(),pl.col(string_col).mode(),pl.col(date_col).mean())\n",
    "        for col in string_col:\n",
    "            df = df.with_columns(pl.col(col).list.first().alias(col))\n",
    "\n",
    "        return df"
   ]
  },
  {
   "cell_type": "code",
   "execution_count": 10,
   "id": "15858b00",
   "metadata": {},
   "outputs": [],
   "source": [
    "class Loader:\n",
    "    def _count_files_for_concat(all_files: list) -> dict:\n",
    "        all_files = [filename[:-5] for filename in all_files]\n",
    "        count =  Counter(all_files)\n",
    "        return count\n",
    "\n",
    "\n",
    "    def load_data_by_depth(paths_list: list, depth: int) -> list:\n",
    "        files_list = []\n",
    "        files_count = Loader._count_files_for_concat(paths_list)\n",
    "        total_index = 0 \n",
    "        for file_name, count in files_count.items():\n",
    "            temp_storage_for_concat = []\n",
    "            \n",
    "            for idx in range(count):\n",
    "                file_path = dataPath + paths_list[total_index].split('_',2)[0] + '/' + paths_list[total_index]\n",
    "                file, column_types = Preprocess.set_table_dtypes(pl.read_csv(file_path))\n",
    "                if depth > 0 :\n",
    "                    temp_storage_for_concat.append(Agregator.aggreget(file, column_types))\n",
    "                total_index += 1\n",
    "            file = pl.concat(temp_storage_for_concat, how=\"vertical_relaxed\")\n",
    "            file,_ = Preprocess.remove_columns_over_null_limit(file)\n",
    "            file,_ = Preprocess.remove_columns_over_max_cardinality(file)\n",
    "            files_list.append(file, how=\"vertical_relaxed\")\n",
    "            gc.collect()\n",
    "        return files_list\n",
    "\n",
    "    def load_files(paths_dictionary: dict ) -> list:\n",
    "        files = []\n",
    "        for depth in paths_dictionary:\n",
    "            files.append(Loader.load_data_by_depth(paths_dictionary[depth], depth))\n",
    "        return files\n",
    "    \n",
    "    def join_tables():\n",
    "        #TO DO "
   ]
  },
  {
   "cell_type": "code",
   "execution_count": 105,
   "id": "98496251",
   "metadata": {},
   "outputs": [],
   "source": [
    "data_path_train = {0: [\"train_static_0_0.csv\",\"train_static_0_1.csv\",\"train_static_cb_0.csv\"],\n",
    "                   1: [\"train_applprev_1_0.csv\",\"train_applprev_1_1.csv\",\"train_other_1.csv\",\"train_tax_registry_a_1.csv\", \"train_tax_registry_b_1.csv\",\"train_tax_registry_c_1.csv\",\n",
    "                              \"train_credit_bureau_a_1_0.csv\",\"train_credit_bureau_a_1_1.csv\",\"train_credit_bureau_a_1_2.csv\",\"train_credit_bureau_a_1_3.csv\",\"train_credit_bureau_b_1.csv\",\n",
    "                              \"train_deposit_1.csv\",\"train_person_1.csv\",\"train_debitcard_1.csv\"],\n",
    "                    2: [\"train_applprev_2.csv\",\"train_person_2.csv\",\"train_credit_bureau_a_2_0.csv\",\"train_credit_bureau_a_2_1.csv\",\"train_credit_bureau_a_2_2.csv\",\"train_credit_bureau_a_2_3.csv\",\n",
    "                             \"train_credit_bureau_a_2_4.csv\",\"train_credit_bureau_a_2_5.csv\",\"train_credit_bureau_a_2_6.csv\",\"train_credit_bureau_a_2_7.csv\",\"train_credit_bureau_a_2_8.csv\",\"train_credit_bureau_a_2_9.csv\",\n",
    "                             \"train_credit_bureau_a_2_10.csv\",\"train_credit_bureau_b_2.csv\"]}\n",
    "\n",
    "data_path_test = {0: [\"test_static_0_0.csv\",\"test_static_0_1.csv\",\"test_static_0_2.csv\",\"test_static_cb_0.csv\"],\n",
    "                  1:  [\"test_applprev_1_0.csv\",\"test_applprev_1_1.csv\",\"test_applprev_1_2.csv\", \"test_other_1.csv\", \"test_tax_registry_a_1.csv\",\"test_tax_registry_b_1.csv\",\"test_tax_registry_c_1.csv\",\n",
    "                              \"test_credit_bureau_a_1_0.csv\",\"test_credit_bureau_a_1_1.csv\",\"test_credit_bureau_a_1_2.csv\",\"test_credit_bureau_a_1_3.csv\",\"test_credit_bureau_a_1_4.csv\",\"test_credit_bureau_b_1.csv\",\n",
    "                              \"test_deposit_1.csv\",\"test_person_1.csv\",\"test_debitcard_1.csv\"],\n",
    "                  2: [\"test_applprev_2.csv\",\"test_person_2.csv\",\"test_credit_bureau_a_2_0.csv\",\"test_credit_bureau_a_2_1.csv\",\"test_credit_bureau_a_2_2.csv\",\"test_credit_bureau_a_2_3.csv\",\n",
    "                             \"test_credit_bureau_a_2_4.csv\",\"test_credit_bureau_a_2_5.csv\",\"test_credit_bureau_a_2_6.csv\",\"test_credit_bureau_a_2_7.csv\",\"test_credit_bureau_a_2_8.csv\",\"test_credit_bureau_a_2_9.csv\",\n",
    "                             \"test_credit_bureau_a_2_10.csv\",\"test_credit_bureau_a_2_11.csv\",\"test_credit_bureau_b_2.csv\"]}\n"
   ]
  },
  {
   "cell_type": "code",
   "execution_count": 106,
   "id": "2b0e88c5",
   "metadata": {},
   "outputs": [
    {
     "data": {
      "text/plain": [
       "['test_static_0_0.csv',\n",
       " 'test_static_0_1.csv',\n",
       " 'test_static_0_2.csv',\n",
       " 'test_static_cb_0.csv']"
      ]
     },
     "execution_count": 106,
     "metadata": {},
     "output_type": "execute_result"
    }
   ],
   "source": [
    "data_path_test[0]"
   ]
  },
  {
   "cell_type": "code",
   "execution_count": null,
   "id": "6b3cd224",
   "metadata": {},
   "outputs": [],
   "source": [
    "# file = pl.read_csv(dataPath + 'train/' +  \"train_applprev_1_0.csv\")\n",
    "        # print(file.estimated_size() /1024**2)\n",
    "        # file, column_types = Preprocess.set_table_dtypes(file)\n",
    "        # file = Agregator.aggreget(file, column_types)\n",
    "        # file,_ = Preprocess.remove_columns_over_null_limit(file)\n",
    "        # file,_ = Preprocess.remove_columns_over_max_cardinality(file)\n",
    "        # print(file.estimated_size() /1024**2)\n",
    "    \n",
    "        "
   ]
  },
  {
   "cell_type": "code",
   "execution_count": null,
   "id": "b3ec21ab",
   "metadata": {},
   "outputs": [],
   "source": [
    "# from pympler import tracker\n",
    "# from pympler.asizeof import asizeof\n",
    "\n",
    "# a = pl.read_csv(dataPath + 'train/' +  \"train_credit_bureau_a_2_2.csv\")\n",
    "# asizeof.asizeof(a)\n",
    "# print(asizeof.asized(a, detail=1).format())"
   ]
  },
  {
   "cell_type": "code",
   "execution_count": 108,
   "id": "f7802458",
   "metadata": {},
   "outputs": [
    {
     "data": {
      "text/plain": [
       "220.95586681365967"
      ]
     },
     "execution_count": 108,
     "metadata": {},
     "output_type": "execute_result"
    }
   ],
   "source": [
    "file.estimated_size() /1024**2"
   ]
  },
  {
   "cell_type": "code",
   "execution_count": 109,
   "id": "b74c782e",
   "metadata": {},
   "outputs": [
    {
     "data": {
      "text/plain": [
       "384"
      ]
     },
     "execution_count": 109,
     "metadata": {},
     "output_type": "execute_result"
    }
   ],
   "source": [
    "\n",
    "asizeof(file)"
   ]
  },
  {
   "cell_type": "code",
   "execution_count": 80,
   "id": "7f8c0cd5",
   "metadata": {},
   "outputs": [
    {
     "data": {
      "text/plain": [
       "(shape: (1_003_757, 168)\n",
       " ┌─────────┬────────────┬───────────┬───────────┬───┬───────────┬───────────┬───────────┬───────────┐\n",
       " │ case_id ┆ actualdpdt ┆ amtinstpa ┆ annuity_7 ┆ … ┆ lastrepay ┆ maxdpdins ┆ payvacati ┆ validfrom │\n",
       " │ ---     ┆ olerance_3 ┆ idbefduel ┆ 80A       ┆   ┆ ingdate_6 ┆ tldate_35 ┆ onpostpon ┆ _1069D    │\n",
       " │ i64     ┆ 44P        ┆ 24m_41871 ┆ ---       ┆   ┆ 96D       ┆ 46855D    ┆ e_4187118 ┆ ---       │\n",
       " │         ┆ ---        ┆ 15A       ┆ f64       ┆   ┆ ---       ┆ ---       ┆ D         ┆ date      │\n",
       " │         ┆ f64        ┆ ---       ┆           ┆   ┆ date      ┆ date      ┆ ---       ┆           │\n",
       " │         ┆            ┆ f64       ┆           ┆   ┆           ┆           ┆ date      ┆           │\n",
       " ╞═════════╪════════════╪═══════════╪═══════════╪═══╪═══════════╪═══════════╪═══════════╪═══════════╡\n",
       " │ 1482120 ┆ 0.0        ┆ 223.892   ┆ 4818.4    ┆ … ┆ null      ┆ null      ┆ null      ┆ null      │\n",
       " │ 1510688 ┆ 0.0        ┆ 29358.375 ┆ 3164.4001 ┆ … ┆ null      ┆ null      ┆ null      ┆ null      │\n",
       " │ 2594464 ┆ 0.0        ┆ 75825.4   ┆ 6000.0    ┆ … ┆ null      ┆ null      ┆ null      ┆ null      │\n",
       " │ 791120  ┆ 0.0        ┆ 53833.06  ┆ 3161.6    ┆ … ┆ null      ┆ null      ┆ null      ┆ null      │\n",
       " │ …       ┆ …          ┆ …         ┆ …         ┆ … ┆ …         ┆ …         ┆ …         ┆ …         │\n",
       " │ 644039  ┆ 0.0        ┆ 0.0       ┆ 1155.4    ┆ … ┆ null      ┆ null      ┆ null      ┆ null      │\n",
       " │ 901103  ┆ 0.0        ┆ 0.0       ┆ 10248.2   ┆ … ┆ null      ┆ null      ┆ null      ┆ null      │\n",
       " │ 1564127 ┆ 0.0        ┆ 61300.0   ┆ 635.60004 ┆ … ┆ null      ┆ null      ┆ null      ┆ null      │\n",
       " │ 783991  ┆ 0.0        ┆ 0.0       ┆ 1534.6    ┆ … ┆ null      ┆ null      ┆ null      ┆ null      │\n",
       " └─────────┴────────────┴───────────┴───────────┴───┴───────────┴───────────┴───────────┴───────────┘,\n",
       " shape: (270, 3)\n",
       " ┌───────────────────────────────────┬──────────┬──────────┐\n",
       " │ node                              ┆ start    ┆ end      │\n",
       " │ ---                               ┆ ---      ┆ ---      │\n",
       " │ str                               ┆ u64      ┆ u64      │\n",
       " ╞═══════════════════════════════════╪══════════╪══════════╡\n",
       " │ optimization                      ┆ 0        ┆ 10       │\n",
       " │ csv(C:/Users/Marcel/Documents/Py… ┆ 10       ┆ 936035   │\n",
       " │ with_column(case_id)              ┆ 936050   ┆ 936292   │\n",
       " │ with_column(actualdpdtolerance_3… ┆ 936295   ┆ 936298   │\n",
       " │ …                                 ┆ …        ┆ …        │\n",
       " │ with_column(sellerplacecnt_915L)  ┆ 65869678 ┆ 65880720 │\n",
       " │ with_column(sellerplacescnt_216L… ┆ 65880738 ┆ 65893082 │\n",
       " │ with_column(twobodfilling_608L)   ┆ 65893100 ┆ 65909599 │\n",
       " │ with_column(typesuite_864L)       ┆ 65909612 ┆ 65926001 │\n",
       " └───────────────────────────────────┴──────────┴──────────┘)"
      ]
     },
     "execution_count": 80,
     "metadata": {},
     "output_type": "execute_result"
    }
   ],
   "source": [
    "file.profile()"
   ]
  },
  {
   "cell_type": "code",
   "execution_count": 66,
   "id": "62718e8f",
   "metadata": {},
   "outputs": [],
   "source": [
    "df = pl.LazyFrame({\"list\": [[1,1],[2,2],[3,4]]})"
   ]
  },
  {
   "cell_type": "code",
   "execution_count": 76,
   "id": "8a53ea5d",
   "metadata": {},
   "outputs": [],
   "source": [
    "df = df.with_columns(\n",
    "    pl.col(\"list\").list.first().alias(\"first_element\")\n",
    ")"
   ]
  },
  {
   "cell_type": "code",
   "execution_count": 77,
   "id": "9e637e27",
   "metadata": {},
   "outputs": [
    {
     "data": {
      "text/html": [
       "<div><style>\n",
       ".dataframe > thead > tr > th,\n",
       ".dataframe > tbody > tr > td {\n",
       "  text-align: right;\n",
       "  white-space: pre-wrap;\n",
       "}\n",
       "</style>\n",
       "<small>shape: (3, 2)</small><table border=\"1\" class=\"dataframe\"><thead><tr><th>list</th><th>first_element</th></tr><tr><td>list[i64]</td><td>i64</td></tr></thead><tbody><tr><td>[1, 1]</td><td>1</td></tr><tr><td>[2, 2]</td><td>2</td></tr><tr><td>[3, 4]</td><td>3</td></tr></tbody></table></div>"
      ],
      "text/plain": [
       "shape: (3, 2)\n",
       "┌───────────┬───────────────┐\n",
       "│ list      ┆ first_element │\n",
       "│ ---       ┆ ---           │\n",
       "│ list[i64] ┆ i64           │\n",
       "╞═══════════╪═══════════════╡\n",
       "│ [1, 1]    ┆ 1             │\n",
       "│ [2, 2]    ┆ 2             │\n",
       "│ [3, 4]    ┆ 3             │\n",
       "└───────────┴───────────────┘"
      ]
     },
     "execution_count": 77,
     "metadata": {},
     "output_type": "execute_result"
    }
   ],
   "source": [
    "df.collect()"
   ]
  },
  {
   "cell_type": "code",
   "execution_count": null,
   "id": "770e9728",
   "metadata": {},
   "outputs": [],
   "source": [
    "files = Loader.load_files(data_path_train)\n"
   ]
  },
  {
   "cell_type": "code",
   "execution_count": 182,
   "id": "1fd0f3f6",
   "metadata": {},
   "outputs": [
    {
     "data": {
      "text/plain": [
       "0"
      ]
     },
     "execution_count": 182,
     "metadata": {},
     "output_type": "execute_result"
    }
   ],
   "source": []
  },
  {
   "cell_type": "code",
   "execution_count": 21,
   "id": "ee5970eb",
   "metadata": {
    "execution": {
     "iopub.execute_input": "2024-05-02T09:32:44.392267Z",
     "iopub.status.busy": "2024-05-02T09:32:44.391838Z",
     "iopub.status.idle": "2024-05-02T09:33:03.177706Z",
     "shell.execute_reply": "2024-05-02T09:33:03.176730Z"
    },
    "papermill": {
     "duration": 18.796544,
     "end_time": "2024-05-02T09:33:03.180398",
     "exception": false,
     "start_time": "2024-05-02T09:32:44.383854",
     "status": "completed"
    },
    "tags": []
   },
   "outputs": [],
   "source": [
    "train_basetable = pl.read_csv(dataPath + \"csv_files/train/train_base.csv\").pipe(Preprocess.set_table_dtypes)\n",
    "train_static = pl.concat(\n",
    "    [\n",
    "        pl.read_csv(dataPath + \"csv_files/train/train_static_0_0.csv\").pipe(Preprocess.set_table_dtypes),\n",
    "        pl.read_csv(dataPath + \"csv_files/train/train_static_0_1.csv\").pipe(Preprocess.set_table_dtypes),\n",
    "    ],\n",
    "    how=\"vertical_relaxed\",\n",
    ")\n",
    "train_static_cb = pl.read_csv(dataPath + \"csv_files/train/train_static_cb_0.csv\").pipe(Preprocess.set_table_dtypes)\n",
    "train_person_1 = pl.read_csv(dataPath + \"csv_files/train/train_person_1.csv\").pipe(Preprocess.set_table_dtypes) \n",
    "train_credit_bureau_b_2 = pl.read_csv(dataPath + \"csv_files/train/train_credit_bureau_b_2.csv\").pipe(Preprocess.set_table_dtypes) "
   ]
  },
  {
   "cell_type": "code",
   "execution_count": 15,
   "id": "c17521d2",
   "metadata": {},
   "outputs": [
    {
     "data": {
      "text/plain": [
       "Date"
      ]
     },
     "execution_count": 15,
     "metadata": {},
     "output_type": "execute_result"
    }
   ],
   "source": [
    "train_static.get_column('datefirstoffer_1144D').dtype"
   ]
  },
  {
   "cell_type": "code",
   "execution_count": 22,
   "id": "3c7bfb90",
   "metadata": {
    "execution": {
     "iopub.execute_input": "2024-05-02T09:33:03.196254Z",
     "iopub.status.busy": "2024-05-02T09:33:03.195453Z",
     "iopub.status.idle": "2024-05-02T09:33:03.276168Z",
     "shell.execute_reply": "2024-05-02T09:33:03.274907Z"
    },
    "papermill": {
     "duration": 0.092297,
     "end_time": "2024-05-02T09:33:03.279580",
     "exception": false,
     "start_time": "2024-05-02T09:33:03.187283",
     "status": "completed"
    },
    "tags": []
   },
   "outputs": [],
   "source": [
    "test_basetable = pl.read_csv(dataPath + \"csv_files/test/test_base.csv\").pipe(Preprocess.set_table_dtypes)\n",
    "test_static = pl.concat(\n",
    "    [\n",
    "        pl.read_csv(dataPath + \"csv_files/test/test_static_0_0.csv\").pipe(Preprocess.set_table_dtypes),\n",
    "        pl.read_csv(dataPath + \"csv_files/test/test_static_0_1.csv\").pipe(Preprocess.set_table_dtypes),\n",
    "        pl.read_csv(dataPath + \"csv_files/test/test_static_0_2.csv\").pipe(Preprocess.set_table_dtypes)\n",
    "    ],\n",
    "    how=\"vertical_relaxed\",\n",
    ")\n",
    "test_static_cb = pl.read_csv(dataPath + \"csv_files/test/test_static_cb_0.csv\").pipe(Preprocess.set_table_dtypes)\n",
    "test_person_1 = pl.read_csv(dataPath + \"csv_files/test/test_person_1.csv\").pipe(Preprocess.set_table_dtypes) \n",
    "test_credit_bureau_b_2 = pl.read_csv(dataPath + \"csv_files/test/test_credit_bureau_b_2.csv\").pipe(Preprocess.set_table_dtypes) "
   ]
  },
  {
   "cell_type": "markdown",
   "id": "ebc869d9",
   "metadata": {
    "papermill": {
     "duration": 0.006262,
     "end_time": "2024-05-02T09:33:03.292569",
     "exception": false,
     "start_time": "2024-05-02T09:33:03.286307",
     "status": "completed"
    },
    "tags": []
   },
   "source": [
    "## Feature engineering\n",
    "\n",
    "In this part, we can see a simple example of joining tables via `case_id`. Here the loading and joining is done with polars library. Polars library is blazingly fast and has much smaller memory footprint than pandas. "
   ]
  },
  {
   "cell_type": "code",
   "execution_count": 40,
   "id": "a2928c92",
   "metadata": {
    "execution": {
     "iopub.execute_input": "2024-05-02T09:33:03.309357Z",
     "iopub.status.busy": "2024-05-02T09:33:03.308947Z",
     "iopub.status.idle": "2024-05-02T09:33:04.959677Z",
     "shell.execute_reply": "2024-05-02T09:33:04.958585Z"
    },
    "papermill": {
     "duration": 1.662887,
     "end_time": "2024-05-02T09:33:04.962339",
     "exception": false,
     "start_time": "2024-05-02T09:33:03.299452",
     "status": "completed"
    },
    "tags": []
   },
   "outputs": [],
   "source": [
    "# # We need to use aggregation functions in tables with depth > 1, so tables that contain num_group1 column or \n",
    "# # also num_group2 column.\n",
    "# train_person_1_feats_1 = train_person_1.group_by(\"case_id\").agg(\n",
    "#     pl.col(\"mainoccupationinc_384A\").max().alias(\"mainoccupationinc_384A_max\"),\n",
    "#     (pl.col(\"incometype_1044T\") == \"SELFEMPLOYED\").max().alias(\"mainoccupationinc_384A_any_selfemployed\")\n",
    "# )\n",
    "\n",
    "# # Here num_group1=0 has special meaning, it is the person who applied for the loan.\n",
    "# train_person_1_feats_2 = train_person_1.select([\"case_id\", \"num_group1\", \"housetype_905L\"]).filter(\n",
    "#     pl.col(\"num_group1\") == 0\n",
    "# ).drop(\"num_group1\").rename({\"housetype_905L\": \"person_housetype\"})\n",
    "\n",
    "# # Here we have num_goup1 and num_group2, so we need to aggregate again.\n",
    "# train_credit_bureau_b_2_feats = train_credit_bureau_b_2.group_by(\"case_id\").agg(\n",
    "#     pl.col(\"pmts_pmtsoverdue_635A\").max().alias(\"pmts_pmtsoverdue_635A_max\"),\n",
    "#     (pl.col(\"pmts_dpdvalue_108P\") > 31).max().alias(\"pmts_dpdvalue_108P_over31\")\n",
    "# )\n",
    "\n",
    "# # We will process in this examples only A-type and M-type columns, so we need to select them.\n",
    "# selected_static_cols = []\n",
    "# for col in train_static.columns:\n",
    "#     if col[-1] in (\"A\", \"M\"):\n",
    "#         selected_static_cols.append(col)\n",
    "# print(selected_static_cols)\n",
    "\n",
    "# selected_static_cb_cols = []\n",
    "# for col in train_static_cb.columns:\n",
    "#     if col[-1] in (\"A\", \"M\"):\n",
    "#         selected_static_cb_cols.append(col)\n",
    "# print(selected_static_cb_cols)\n",
    "\n",
    "# Join all tables together.\n",
    "data = train_basetable.join(\n",
    "    train_static, how=\"left\", on=\"case_id\")\n",
    "# ).join(\n",
    "#     train_static_cb.select([\"case_id\"]+selected_static_cb_cols), how=\"left\", on=\"case_id\"\n",
    "# ).join(\n",
    "#     train_person_1_feats_1, how=\"left\", on=\"case_id\"\n",
    "# ).join(\n",
    "#     train_person_1_feats_2, how=\"left\", on=\"case_id\"\n",
    "# ).join(\n",
    "#     train_credit_bureau_b_2_feats, how=\"left\", on=\"case_id\"\n",
    "# )"
   ]
  },
  {
   "cell_type": "code",
   "execution_count": 41,
   "id": "68d0c017",
   "metadata": {
    "execution": {
     "iopub.execute_input": "2024-05-02T09:33:04.977306Z",
     "iopub.status.busy": "2024-05-02T09:33:04.976903Z",
     "iopub.status.idle": "2024-05-02T09:33:04.989650Z",
     "shell.execute_reply": "2024-05-02T09:33:04.988746Z"
    },
    "papermill": {
     "duration": 0.02283,
     "end_time": "2024-05-02T09:33:04.991896",
     "exception": false,
     "start_time": "2024-05-02T09:33:04.969066",
     "status": "completed"
    },
    "tags": []
   },
   "outputs": [],
   "source": [
    "# test_person_1_feats_1 = test_person_1.group_by(\"case_id\").agg(\n",
    "#     pl.col(\"mainoccupationinc_384A\").max().alias(\"mainoccupationinc_384A_max\"),\n",
    "#     (pl.col(\"incometype_1044T\") == \"SELFEMPLOYED\").max().alias(\"mainoccupationinc_384A_any_selfemployed\")\n",
    "# )\n",
    "\n",
    "# test_person_1_feats_2 = test_person_1.select([\"case_id\", \"num_group1\", \"housetype_905L\"]).filter(\n",
    "#     pl.col(\"num_group1\") == 0\n",
    "# ).drop(\"num_group1\").rename({\"housetype_905L\": \"person_housetype\"})\n",
    "\n",
    "# test_credit_bureau_b_2_feats = test_credit_bureau_b_2.group_by(\"case_id\").agg(\n",
    "#     pl.col(\"pmts_pmtsoverdue_635A\").max().alias(\"pmts_pmtsoverdue_635A_max\"),\n",
    "#     (pl.col(\"pmts_dpdvalue_108P\") > 31).max().alias(\"pmts_dpdvalue_108P_over31\")\n",
    "# )\n",
    "\n",
    "data_submission = test_basetable.join(\n",
    "    test_static, how=\"left\", on=\"case_id\")\n",
    "# ).join(\n",
    "#     test_static_cb.select([\"case_id\"]+selected_static_cb_cols), how=\"left\", on=\"case_id\"\n",
    "# ).join(\n",
    "#     test_person_1_feats_1, how=\"left\", on=\"case_id\"\n",
    "# ).join(\n",
    "#     test_person_1_feats_2, how=\"left\", on=\"case_id\"\n",
    "# ).join(\n",
    "#     test_credit_bureau_b_2_feats, how=\"left\", on=\"case_id\"\n",
    "# )"
   ]
  },
  {
   "cell_type": "code",
   "execution_count": 44,
   "id": "f2360088",
   "metadata": {},
   "outputs": [],
   "source": [
    "data = Preprocess.offset_dates_by_decision_date(data)\n",
    "data, drop_list_null = Preprocess.remove_columns_over_null_limit(data)\n",
    "data, drop_list_cardinality = Preprocess.remove_columns_over_max_cardinality(data)\n",
    "data_submission = Preprocess.offset_dates_by_decision_date(data_submission)\n",
    "data_submission = data_submission.drop(drop_list_null + drop_list_cardinality)"
   ]
  },
  {
   "cell_type": "code",
   "execution_count": 46,
   "id": "c1df87e7",
   "metadata": {
    "execution": {
     "iopub.execute_input": "2024-05-02T09:33:05.006908Z",
     "iopub.status.busy": "2024-05-02T09:33:05.006481Z",
     "iopub.status.idle": "2024-05-02T09:33:14.142270Z",
     "shell.execute_reply": "2024-05-02T09:33:14.141026Z"
    },
    "papermill": {
     "duration": 9.146955,
     "end_time": "2024-05-02T09:33:14.145512",
     "exception": false,
     "start_time": "2024-05-02T09:33:04.998557",
     "status": "completed"
    },
    "tags": []
   },
   "outputs": [
    {
     "name": "stdout",
     "output_type": "stream",
     "text": [
      "['actualdpdtolerance_344P', 'amtinstpaidbefduel24m_4187115A', 'annuity_780A', 'annuitynextmonth_57A', 'applicationcnt_361L', 'applications30d_658L', 'applicationscnt_1086L', 'applicationscnt_464L', 'applicationscnt_629L', 'applicationscnt_867L', 'avgdbddpdlast24m_3658932P', 'avgdbddpdlast3m_4187120P', 'avgdbdtollast24m_4525197P', 'avgdpdtolclosure24_3658938P', 'avginstallast24m_3658937A', 'avgmaxdpdlast9m_3716943P', 'avgoutstandbalancel6m_4187114A', 'avgpmtlast12m_4525200A', 'clientscnt12m_3712952L', 'clientscnt3m_3712950L', 'clientscnt6m_3712949L', 'clientscnt_100L', 'clientscnt_1022L', 'clientscnt_1071L', 'clientscnt_1130L', 'clientscnt_157L', 'clientscnt_257L', 'clientscnt_304L', 'clientscnt_360L', 'clientscnt_493L', 'clientscnt_533L', 'clientscnt_887L', 'clientscnt_946L', 'cntincpaycont9m_3716944L', 'cntpmts24_3658933L', 'commnoinclast6m_3546845L', 'credamount_770A', 'credtype_322L', 'currdebt_22A', 'currdebtcredtyperange_828A', 'datefirstoffer_1144D', 'datelastunpaid_3546854D', 'daysoverduetolerancedd_3976961L', 'deferredmnthsnum_166L', 'disbursedcredamount_1113A', 'disbursementtype_67L', 'downpmt_116A', 'dtlastpmtallstes_4499206D', 'eir_270L', 'firstclxcampaign_1125D', 'firstdatedue_489D', 'homephncnt_628L', 'inittransactioncode_186L', 'interestrate_311L', 'isbidproduct_1095L', 'lastactivateddate_801D', 'lastapplicationdate_877D', 'lastapprcommoditycat_1041M', 'lastapprcommoditytypec_5251766M', 'lastapprcredamount_781A', 'lastapprdate_640D', 'lastcancelreason_561M', 'lastdelinqdate_224D', 'lastrejectcommoditycat_161M', 'lastrejectcommodtypec_5251769M', 'lastrejectcredamount_222A', 'lastrejectdate_50D', 'lastrejectreason_759M', 'lastrejectreasonclient_4145040M', 'lastst_736L', 'maininc_215A', 'mastercontrelectronic_519L', 'mastercontrexist_109L', 'maxannuity_159A', 'maxdbddpdlast1m_3658939P', 'maxdbddpdtollast12m_3658940P', 'maxdbddpdtollast6m_4187119P', 'maxdebt4_972A', 'maxdpdfrom6mto36m_3546853P', 'maxdpdinstldate_3546855D', 'maxdpdinstlnum_3546846P', 'maxdpdlast12m_727P', 'maxdpdlast24m_143P', 'maxdpdlast3m_392P', 'maxdpdlast6m_474P', 'maxdpdlast9m_1059P', 'maxdpdtolerance_374P', 'maxinstallast24m_3658928A', 'maxlnamtstart6m_4525199A', 'maxoutstandbalancel12m_4187113A', 'mindbddpdlast24m_3658935P', 'mindbdtollast24m_4525191P', 'mobilephncnt_593L', 'monthsannuity_845L', 'numactivecreds_622L', 'numactivecredschannel_414L', 'numactiverelcontr_750L', 'numcontrs3months_479L', 'numincomingpmts_3546848L', 'numinstlallpaidearly3d_817L', 'numinstls_657L', 'numinstlsallpaid_934L', 'numinstlswithdpd10_728L', 'numinstlswithdpd5_4187116L', 'numinstlswithoutdpd_562L', 'numinstmatpaidtearly2d_4499204L', 'numinstpaid_4499208L', 'numinstpaidearly3d_3546850L', 'numinstpaidearly3dest_4493216L', 'numinstpaidearly5d_1087L', 'numinstpaidearly5dest_4493211L', 'numinstpaidearly5dobd_4499205L', 'numinstpaidearly_338L', 'numinstpaidearlyest_4493214L', 'numinstpaidlastcontr_4325080L', 'numinstpaidlate1d_3546852L', 'numinstregularpaid_973L', 'numinstregularpaidest_4493210L', 'numinsttopaygr_769L', 'numinsttopaygrest_4493213L', 'numinstunpaidmax_3546851L', 'numinstunpaidmaxest_4493212L', 'numnotactivated_1143L', 'numpmtchanneldd_318L', 'numrejects9m_859L', 'opencred_647L', 'paytype1st_925L', 'paytype_783L', 'pctinstlsallpaidearl3d_427L', 'pctinstlsallpaidlat10d_839L', 'pctinstlsallpaidlate1d_3546856L', 'pctinstlsallpaidlate4d_3546849L', 'pctinstlsallpaidlate6d_3546844L', 'pmtnum_254L', 'posfpd10lastmonth_333P', 'posfpd30lastmonth_3976960P', 'posfstqpd30lastmonth_3976962P', 'previouscontdistrict_112M', 'price_1097A', 'sellerplacecnt_915L', 'sellerplacescnt_216L', 'sumoutstandtotal_3546847A', 'sumoutstandtotalest_4493215A', 'totaldebt_9A', 'totalsettled_863A', 'twobodfilling_608L']\n"
     ]
    }
   ],
   "source": [
    "case_ids = data[\"case_id\"].unique().shuffle(seed=1).to_frame()\n",
    "case_ids_train, case_ids_test = train_test_split(case_ids, train_size=0.6, random_state=1)\n",
    "case_ids_valid, case_ids_test = train_test_split(case_ids_test, train_size=0.5, random_state=1)\n",
    "\n",
    "cols_pred = []\n",
    "for col in data.columns:\n",
    "    if col[-1].isupper() and col[:-1].islower():\n",
    "        cols_pred.append(col)\n",
    "\n",
    "print(cols_pred)\n",
    "\n",
    "def from_polars_to_pandas(case_ids: pl.Series) -> pl.DataFrame:\n",
    "    return (\n",
    "        data.filter(pl.col(\"case_id\").is_in(case_ids))[[\"case_id\", \"WEEK_NUM\", \"target\"]].to_pandas(),\n",
    "        data.filter(pl.col(\"case_id\").is_in(case_ids))[cols_pred].to_pandas(),\n",
    "        data.filter(pl.col(\"case_id\").is_in(case_ids))[\"target\"].to_pandas()\n",
    "    )\n",
    "\n",
    "base_train, X_train, y_train = from_polars_to_pandas(case_ids_train.get_column('case_id'))\n",
    "base_valid, X_valid, y_valid = from_polars_to_pandas(case_ids_valid.get_column('case_id'))\n",
    "base_test, X_test, y_test = from_polars_to_pandas(case_ids_test.get_column('case_id'))\n",
    "\n",
    "for df in [X_train, X_valid, X_test]:\n",
    "    df = convert_strings(df)"
   ]
  },
  {
   "cell_type": "code",
   "execution_count": 47,
   "id": "5b2ffb72",
   "metadata": {
    "execution": {
     "iopub.execute_input": "2024-05-02T09:33:14.160792Z",
     "iopub.status.busy": "2024-05-02T09:33:14.160369Z",
     "iopub.status.idle": "2024-05-02T09:33:14.166379Z",
     "shell.execute_reply": "2024-05-02T09:33:14.165366Z"
    },
    "papermill": {
     "duration": 0.016347,
     "end_time": "2024-05-02T09:33:14.168666",
     "exception": false,
     "start_time": "2024-05-02T09:33:14.152319",
     "status": "completed"
    },
    "tags": []
   },
   "outputs": [
    {
     "name": "stdout",
     "output_type": "stream",
     "text": [
      "Train: (915995, 146)\n",
      "Valid: (305332, 146)\n",
      "Test: (305332, 146)\n"
     ]
    }
   ],
   "source": [
    "print(f\"Train: {X_train.shape}\")\n",
    "print(f\"Valid: {X_valid.shape}\")\n",
    "print(f\"Test: {X_test.shape}\")"
   ]
  },
  {
   "cell_type": "code",
   "execution_count": 57,
   "id": "e8a64d2e",
   "metadata": {},
   "outputs": [
    {
     "data": {
      "text/plain": [
       "146"
      ]
     },
     "execution_count": 57,
     "metadata": {},
     "output_type": "execute_result"
    }
   ],
   "source": []
  },
  {
   "cell_type": "markdown",
   "id": "751c3e5f",
   "metadata": {
    "papermill": {
     "duration": 0.006475,
     "end_time": "2024-05-02T09:33:14.182226",
     "exception": false,
     "start_time": "2024-05-02T09:33:14.175751",
     "status": "completed"
    },
    "tags": []
   },
   "source": [
    "## Training LightGBM\n",
    "\n",
    "Minimal example of LightGBM training is shown below."
   ]
  },
  {
   "cell_type": "code",
   "execution_count": 60,
   "id": "7e421dd8",
   "metadata": {
    "execution": {
     "iopub.execute_input": "2024-05-02T09:33:14.198296Z",
     "iopub.status.busy": "2024-05-02T09:33:14.197763Z",
     "iopub.status.idle": "2024-05-02T09:34:33.798053Z",
     "shell.execute_reply": "2024-05-02T09:34:33.797006Z"
    },
    "papermill": {
     "duration": 79.611628,
     "end_time": "2024-05-02T09:34:33.800497",
     "exception": false,
     "start_time": "2024-05-02T09:33:14.188869",
     "status": "completed"
    },
    "tags": []
   },
   "outputs": [
    {
     "name": "stderr",
     "output_type": "stream",
     "text": [
      "C:\\Users\\Marcel\\AppData\\Local\\Packages\\PythonSoftwareFoundation.Python.3.12_qbz5n2kfra8p0\\LocalCache\\local-packages\\Python312\\site-packages\\lightgbm\\engine.py:172: UserWarning: Found `n_estimators` in params. Will use it instead of argument\n",
      "  _log_warning(f\"Found `{alias}` in params. Will use it instead of argument\")\n"
     ]
    },
    {
     "name": "stdout",
     "output_type": "stream",
     "text": [
      "Training until validation scores don't improve for 10 rounds\n",
      "[50]\tvalid_0's auc: 0.74842\n",
      "[100]\tvalid_0's auc: 0.76209\n",
      "[150]\tvalid_0's auc: 0.768235\n",
      "[200]\tvalid_0's auc: 0.771855\n",
      "[250]\tvalid_0's auc: 0.774768\n",
      "[300]\tvalid_0's auc: 0.776959\n",
      "[350]\tvalid_0's auc: 0.778861\n",
      "[400]\tvalid_0's auc: 0.78061\n",
      "[450]\tvalid_0's auc: 0.781888\n",
      "[500]\tvalid_0's auc: 0.783015\n",
      "[550]\tvalid_0's auc: 0.783849\n",
      "[600]\tvalid_0's auc: 0.784704\n",
      "[650]\tvalid_0's auc: 0.785314\n",
      "[700]\tvalid_0's auc: 0.785955\n",
      "Early stopping, best iteration is:\n",
      "[707]\tvalid_0's auc: 0.78605\n"
     ]
    }
   ],
   "source": [
    "lgb_train = lgb.Dataset(X_train, label=y_train)\n",
    "lgb_valid = lgb.Dataset(X_valid, label=y_valid, reference=lgb_train)\n",
    "\n",
    "params = {\n",
    "    \"boosting_type\": \"gbdt\",\n",
    "    \"objective\": \"binary\",\n",
    "    \"metric\": \"auc\",\n",
    "    \"max_depth\": 3,\n",
    "    \"num_leaves\": 31,\n",
    "    \"learning_rate\": 0.05,\n",
    "    \"feature_fraction\": 0.9,\n",
    "    \"bagging_fraction\": 0.8,\n",
    "    \"bagging_freq\": 5,\n",
    "    \"n_estimators\": 1000,\n",
    "    \"verbose\": -1,\n",
    "}\n",
    "\n",
    "gbm = lgb.train(\n",
    "    params,\n",
    "    lgb_train,\n",
    "    valid_sets=lgb_valid,\n",
    "    callbacks=[lgb.log_evaluation(50), lgb.early_stopping(10)]\n",
    ")"
   ]
  },
  {
   "cell_type": "code",
   "execution_count": 71,
   "id": "253c685b",
   "metadata": {},
   "outputs": [],
   "source": [
    "# class VotingClassifierLGB(RegressorMixin, BaseEstimator):\n",
    "#     def __init__(self,number):\n",
    "#         super().__init__()\n",
    "#         self.estimators = []\n",
    "#         self.number = number\n",
    "#     def fit(self, X, y=None):\n",
    "#         lgb_train = lgb.Dataset(X_train, label=y_train)\n",
    "#         lgb_valid = lgb.Dataset(X_valid, label=y_valid, reference=lgb_train)\n",
    "\n",
    "#         params = {\n",
    "#             \"boosting_type\": \"gbdt\",\n",
    "#             \"objective\": \"binary\",\n",
    "#             \"metric\": \"auc\",\n",
    "#             \"max_depth\": 3,\n",
    "#             \"num_leaves\": 31,\n",
    "#             \"learning_rate\": 0.05,\n",
    "#             \"feature_fraction\": 0.9,\n",
    "#             \"bagging_fraction\": 0.8,\n",
    "#             \"bagging_freq\": 5,\n",
    "#             \"n_estimators\": 1000,\n",
    "#             \"verbose\": -1,\n",
    "#         }\n",
    "#         for n in range(self.number):\n",
    "#             self.estimators[n] = lgb.train(\n",
    "#                 params,\n",
    "#                 lgb_train,\n",
    "#                 valid_sets=lgb_valid,\n",
    "#                 callbacks=[lgb.log_evaluation(50), lgb.early_stopping(10)]\n",
    "#             )\n",
    "#         return self\n",
    "    \n",
    "#     def predict(self, X):\n",
    "#         y_preds = [estimator.predict(X,num_iteration = estimator.best_iteration) for estimator in self.estimators]\n",
    "#         return np.mean(y_preds, axis=0)"
   ]
  },
  {
   "cell_type": "markdown",
   "id": "d69ff3fd",
   "metadata": {
    "papermill": {
     "duration": 0.007961,
     "end_time": "2024-05-02T09:34:33.816880",
     "exception": false,
     "start_time": "2024-05-02T09:34:33.808919",
     "status": "completed"
    },
    "tags": []
   },
   "source": [
    "Evaluation with AUC and then comparison with the stability metric is shown below."
   ]
  },
  {
   "cell_type": "code",
   "execution_count": 74,
   "id": "2552d02f",
   "metadata": {
    "execution": {
     "iopub.execute_input": "2024-05-02T09:34:33.835739Z",
     "iopub.status.busy": "2024-05-02T09:34:33.834654Z",
     "iopub.status.idle": "2024-05-02T09:34:55.638748Z",
     "shell.execute_reply": "2024-05-02T09:34:55.637906Z"
    },
    "papermill": {
     "duration": 21.815783,
     "end_time": "2024-05-02T09:34:55.640973",
     "exception": false,
     "start_time": "2024-05-02T09:34:33.825190",
     "status": "completed"
    },
    "tags": []
   },
   "outputs": [
    {
     "name": "stdout",
     "output_type": "stream",
     "text": [
      "The AUC score on the train set is: 0.7986145291780247\n",
      "The AUC score on the valid set is: 0.7860497183581987\n",
      "The AUC score on the test set is: 0.78244892986483\n"
     ]
    }
   ],
   "source": [
    "for base, X in [(base_train, X_train), (base_valid, X_valid), (base_test, X_test)]:\n",
    "    y_pred = gbm.predict(X, num_iteration=gbm.best_iteration)\n",
    "    base[\"score\"] = y_pred\n",
    "\n",
    "print(f'The AUC score on the train set is: {roc_auc_score(base_train[\"target\"], base_train[\"score\"])}') \n",
    "print(f'The AUC score on the valid set is: {roc_auc_score(base_valid[\"target\"], base_valid[\"score\"])}') \n",
    "print(f'The AUC score on the test set is: {roc_auc_score(base_test[\"target\"], base_test[\"score\"])}')  "
   ]
  },
  {
   "cell_type": "code",
   "execution_count": 50,
   "id": "f61af21f",
   "metadata": {
    "execution": {
     "iopub.execute_input": "2024-05-02T09:34:55.660345Z",
     "iopub.status.busy": "2024-05-02T09:34:55.659645Z",
     "iopub.status.idle": "2024-05-02T09:34:56.732840Z",
     "shell.execute_reply": "2024-05-02T09:34:56.731339Z"
    },
    "papermill": {
     "duration": 1.085972,
     "end_time": "2024-05-02T09:34:56.735415",
     "exception": false,
     "start_time": "2024-05-02T09:34:55.649443",
     "status": "completed"
    },
    "tags": []
   },
   "outputs": [
    {
     "name": "stdout",
     "output_type": "stream",
     "text": [
      "The stability score on the train set is: 0.5799976116248803 a = 0.0010694011873831138 avg_gini = 0.6016184213253379 res_std = 0.0432416194009153\n",
      "The stability score on the valid set is: 0.5457655831137467 a = 0.001002324457445275 avg_gini = 0.5766775590318239 res_std = 0.061823951836154516\n",
      "The stability score on the test set is: 0.5375198056551915 a = 0.0011045164417052156 avg_gini = 0.5702647563547265 res_std = 0.06548990139907004\n"
     ]
    }
   ],
   "source": [
    "def gini_stability(base, w_fallingrate=88.0, w_resstd=-0.5):\n",
    "    gini_in_time = base.loc[:, [\"WEEK_NUM\", \"target\", \"score\"]]\\\n",
    "        .sort_values(\"WEEK_NUM\")\\\n",
    "        .groupby(\"WEEK_NUM\")[[\"target\", \"score\"]]\\\n",
    "        .apply(lambda x: 2*roc_auc_score(x[\"target\"], x[\"score\"])-1).tolist()\n",
    "    \n",
    "    x = np.arange(len(gini_in_time))\n",
    "    y = gini_in_time\n",
    "    a, b = np.polyfit(x, y, 1)\n",
    "    y_hat = a*x + b\n",
    "    residuals = y - y_hat\n",
    "    res_std = np.std(residuals)\n",
    "    avg_gini = np.mean(gini_in_time)\n",
    "    return avg_gini + w_fallingrate * min(0, a) + w_resstd * res_std, a, avg_gini, res_std\n",
    "\n",
    "stability_score_train, a_train, avg_gini_train, res_std_train = gini_stability(base_train)\n",
    "stability_score_valid, a_valid, avg_gini_valid, res_std_valid = gini_stability(base_valid)\n",
    "stability_score_test, a_test, avg_gini_test, res_std_test = gini_stability(base_test)\n",
    "\n",
    "print(f'The stability score on the train set is: {stability_score_train} a = {a_train} avg_gini = {avg_gini_train} res_std = {res_std_train}') \n",
    "print(f'The stability score on the valid set is: {stability_score_valid} a = {a_valid} avg_gini = {avg_gini_valid} res_std = {res_std_valid}') \n",
    "print(f'The stability score on the test set is: {stability_score_test} a = {a_test} avg_gini = {avg_gini_test} res_std = {res_std_test}')  "
   ]
  },
  {
   "cell_type": "markdown",
   "id": "b0d18024",
   "metadata": {
    "papermill": {
     "duration": 0.008411,
     "end_time": "2024-05-02T09:34:56.752764",
     "exception": false,
     "start_time": "2024-05-02T09:34:56.744353",
     "status": "completed"
    },
    "tags": []
   },
   "source": [
    "## Submission\n",
    "\n",
    "Scoring the submission dataset is below, we need to take care of new categories. Then we save the score as a last step. "
   ]
  },
  {
   "cell_type": "code",
   "execution_count": 51,
   "id": "8b254092",
   "metadata": {
    "execution": {
     "iopub.execute_input": "2024-05-02T09:34:56.772290Z",
     "iopub.status.busy": "2024-05-02T09:34:56.771827Z",
     "iopub.status.idle": "2024-05-02T09:34:56.878768Z",
     "shell.execute_reply": "2024-05-02T09:34:56.877894Z"
    },
    "papermill": {
     "duration": 0.119466,
     "end_time": "2024-05-02T09:34:56.881283",
     "exception": false,
     "start_time": "2024-05-02T09:34:56.761817",
     "status": "completed"
    },
    "tags": []
   },
   "outputs": [],
   "source": [
    "X_submission = data_submission[cols_pred].to_pandas()\n",
    "X_submission = convert_strings(X_submission)\n",
    "categorical_cols = X_train.select_dtypes(include=['category']).columns\n",
    "\n",
    "for col in categorical_cols:\n",
    "    train_categories = set(X_train[col].cat.categories)\n",
    "    submission_categories = set(X_submission[col].cat.categories)\n",
    "    new_categories = submission_categories - train_categories\n",
    "    X_submission.loc[X_submission[col].isin(new_categories), col] = \"Unknown\"\n",
    "    new_dtype = pd.CategoricalDtype(categories=train_categories, ordered=True)\n",
    "    X_train[col] = X_train[col].astype(new_dtype)\n",
    "    X_submission[col] = X_submission[col].astype(new_dtype)\n",
    "\n",
    "y_submission_pred = gbm.predict(X_submission, num_iteration=gbm.best_iteration)"
   ]
  },
  {
   "cell_type": "code",
   "execution_count": 52,
   "id": "07deeb29",
   "metadata": {
    "execution": {
     "iopub.execute_input": "2024-05-02T09:34:56.900699Z",
     "iopub.status.busy": "2024-05-02T09:34:56.900031Z",
     "iopub.status.idle": "2024-05-02T09:34:56.911959Z",
     "shell.execute_reply": "2024-05-02T09:34:56.911054Z"
    },
    "papermill": {
     "duration": 0.024201,
     "end_time": "2024-05-02T09:34:56.914247",
     "exception": false,
     "start_time": "2024-05-02T09:34:56.890046",
     "status": "completed"
    },
    "tags": []
   },
   "outputs": [],
   "source": [
    "submission = pd.DataFrame({\n",
    "    \"case_id\": data_submission[\"case_id\"].to_numpy(),\n",
    "    \"score\": y_submission_pred\n",
    "}).set_index('case_id')\n",
    "submission.to_csv(\"./submission.csv\")"
   ]
  },
  {
   "cell_type": "markdown",
   "id": "d481d622",
   "metadata": {
    "papermill": {
     "duration": 0.008592,
     "end_time": "2024-05-02T09:34:56.932087",
     "exception": false,
     "start_time": "2024-05-02T09:34:56.923495",
     "status": "completed"
    },
    "tags": []
   },
   "source": [
    "Best of luck, and most importantly, enjoy the process of learning and discovery! \n",
    "\n",
    "<img src=\"https://i.imgur.com/obVWIBh.png\" alt=\"Image\" width=\"700\"/>"
   ]
  }
 ],
 "metadata": {
  "kaggle": {
   "accelerator": "none",
   "dataSources": [
    {
     "databundleVersionId": 7921029,
     "sourceId": 50160,
     "sourceType": "competition"
    }
   ],
   "dockerImageVersionId": 30635,
   "isGpuEnabled": false,
   "isInternetEnabled": false,
   "language": "python",
   "sourceType": "notebook"
  },
  "kernelspec": {
   "display_name": "Python 3",
   "language": "python",
   "name": "python3"
  },
  "language_info": {
   "codemirror_mode": {
    "name": "ipython",
    "version": 3
   },
   "file_extension": ".py",
   "mimetype": "text/x-python",
   "name": "python",
   "nbconvert_exporter": "python",
   "pygments_lexer": "ipython3",
   "version": "3.12.3"
  },
  "papermill": {
   "default_parameters": {},
   "duration": 142.51015,
   "end_time": "2024-05-02T09:34:58.164264",
   "environment_variables": {},
   "exception": null,
   "input_path": "__notebook__.ipynb",
   "output_path": "__notebook__.ipynb",
   "parameters": {},
   "start_time": "2024-05-02T09:32:35.654114",
   "version": "2.4.0"
  }
 },
 "nbformat": 4,
 "nbformat_minor": 5
}
